{
  "nbformat": 4,
  "nbformat_minor": 0,
  "metadata": {
    "colab": {
      "name": "cell_size_control_models.ipynb",
      "provenance": [],
      "toc_visible": true,
      "authorship_tag": "ABX9TyN3W1w25nRlY/xtrixI7e1g",
      "include_colab_link": true
    },
    "kernelspec": {
      "name": "python3",
      "display_name": "Python 3"
    },
    "language_info": {
      "name": "python"
    }
  },
  "cells": [
    {
      "cell_type": "markdown",
      "metadata": {
        "id": "view-in-github",
        "colab_type": "text"
      },
      "source": [
        "<a href=\"https://colab.research.google.com/github/elevien/phenotypic_variability_review/blob/main/cell_size_control_models.ipynb\" target=\"_parent\"><img src=\"https://colab.research.google.com/assets/colab-badge.svg\" alt=\"Open In Colab\"/></a>"
      ]
    },
    {
      "cell_type": "code",
      "metadata": {
        "id": "Q9BYyCw0cRj1"
      },
      "source": [
        "import numpy as np\n",
        "import pandas as pd\n",
        "import matplotlib.pyplot as plt\n",
        "from scipy import optimize"
      ],
      "execution_count": 1,
      "outputs": []
    },
    {
      "cell_type": "code",
      "metadata": {
        "id": "V36wDQtqcbRc"
      },
      "source": [
        ""
      ],
      "execution_count": null,
      "outputs": []
    },
    {
      "cell_type": "markdown",
      "metadata": {
        "id": "ebGWtU8Dcb42"
      },
      "source": [
        "# Model definitions"
      ]
    },
    {
      "cell_type": "code",
      "metadata": {
        "id": "t35PrE7QcXLI"
      },
      "source": [
        "def cell_size_trajectory(v0,alpha,sigma,tmax):\n",
        "    t = [0]\n",
        "    v = [v0]\n",
        "    t_birth = [0]\n",
        "    v_birth = [v0]\n",
        "    dt = 0.005\n",
        "    vdiv = 2*(1-alpha)*v0+2*alpha+np.random.normal(0,sigma)\n",
        "    gr = 1 + np.random.normal(0,0.1)\n",
        "    while t[-1]<tmax:\n",
        "        v.append(v[-1]+v[-1]*gr*dt)\n",
        "        if v[-1]>vdiv:\n",
        "            v[-1]= v[-1]/2\n",
        "            t_birth.append(t[-1])\n",
        "            v_birth.append(v[-1])\n",
        "            gr = 1 + np.random.normal(0,0.1)\n",
        "            vdiv = 2*(1-alpha)*v[-1]+2*alpha+np.random.normal(0,sigma)\n",
        "        t.append(t[-1]+dt)\n",
        "    return t,v,t_birth,v_birth\n",
        "\n",
        "\n",
        "def make_population_csr(Nmax,a,sigmav,sigmagr,seed,*,dt_sample=0.01,tmax=100):\n",
        "    '''\n",
        "    Simulate exponentially growing population using cell-size regulation model\n",
        "    Also computes the fitness\n",
        "\n",
        "    Input:\n",
        "        Nmax        - the maximum number of cells to generate\n",
        "        a           - cell-size regulation paramater\n",
        "        sigmav      - size addative noise paramater\n",
        "        sigmagr     - growth rate noise paramater\n",
        "        seed        - generation time of ancestral cell\n",
        "                        (relevant if there are correlations)\n",
        "\n",
        "    Optional Input:\n",
        "        tmax        - the maximum time to run\n",
        "        dt_sample   - frequancy to save samples of the number of cells\n",
        "\n",
        "\n",
        "    Output:\n",
        "        N          - the number of cells at sample times\n",
        "        T          - sample times\n",
        "        L          - estimate of population growth rate from fitting\n",
        "    '''\n",
        "    def gen_time(vb,gr):\n",
        "        xiv = np.random.normal(0.,sigmav)\n",
        "        vf = 2*(1-a)*vb+2*a + xiv\n",
        "        return np.log(vf/vb)/gr\n",
        "\n",
        "    #cells =[Cell(gt,gt)]\n",
        "    cells_gt = np.zeros(Nmax) # generation times\n",
        "    cells_dt = np.zeros(Nmax) # division times\n",
        "    cells_vb = np.zeros(Nmax)  # birth volumes\n",
        "    cells_gr = np.zeros(Nmax)  # growth rates\n",
        "    cells_vb[0] = 1.\n",
        "    cells_gr[0] = 1.+np.random.normal(0.,sigmagr)\n",
        "    cells_gt[0] = gen_time(cells_vb[0],cells_gr[0])\n",
        "    cells_dt[0] = cells_gt[0]\n",
        "\n",
        "    gen_times = np.zeros(2*Nmax)\n",
        "\n",
        "    N = [1]\n",
        "    V = [1.]\n",
        "    n=1\n",
        "    T = [0.]\n",
        "    t_sample = 0.\n",
        "    n = 1 # current number of cells\n",
        "    n_tree = 1 # number of cells on entire tree\n",
        "    t = 0.\n",
        "\n",
        "    while n<Nmax and t<tmax:\n",
        "\n",
        "        #cells.sort(key = lambda Cell : Cell.div_time) # can this be made more efficient?\n",
        "        ind = np.argmin(cells_dt[0:n])\n",
        "        mother_dt = cells_dt[ind]\n",
        "        mother_gt = cells_gt[ind]\n",
        "        mother_vb = cells_vb[ind]\n",
        "        mother_gr = cells_gr[ind]\n",
        "        mother_vf = mother_vb*np.exp(mother_gr*mother_gt)\n",
        "        t_next = mother_dt\n",
        "        gen_times[n_tree-1] = mother_gt\n",
        "\n",
        "        cells_vb[ind] = mother_vf/2.\n",
        "        cells_gr[ind] = 1.+np.random.normal(0.,sigmagr)\n",
        "        cells_gt[ind] = gen_time(cells_vb[ind],cells_gr[ind])\n",
        "        cells_dt[ind] = t_next + cells_gt[ind]\n",
        "\n",
        "\n",
        "        cells_vb[n] = mother_vf/2.\n",
        "        cells_gr[n] = 1.+np.random.normal(0.,sigmagr)\n",
        "        cells_gt[n] = gen_time(cells_vb[ind],cells_gr[ind])\n",
        "        cells_dt[n] = t_next + cells_gt[ind]\n",
        "\n",
        "        t_sample += t_next-t\n",
        "        t = t_next\n",
        "        n = n+1\n",
        "        n_tree = n_tree + 1\n",
        "\n",
        "        # save samples\n",
        "        t_last = T[-1]\n",
        "        while t-t_last>dt_sample:\n",
        "            t_last += dt_sample\n",
        "            V.append(np.sum(cells_vb))\n",
        "            T.append(t_last)\n",
        "            N.append(n)\n",
        "            t_sample = 0.\n",
        "\n",
        "    # compute population growth rate\n",
        "    def fit_func(x,a,b):\n",
        "        return a*x+b\n",
        "    fit_steps = len(T)//2 # fit to second half of time\n",
        "    fits,errs = optimize.curve_fit(fit_func,T[fit_steps:-1],[np.log(n) for n in N[fit_steps:-1]])\n",
        "    L = fits[0]\n",
        "    if n>Nmax:\n",
        "        print(\"Warning: n>Nmax\")\n",
        "    return np.array(N),np.array(V),np.array(T),L\n"
      ],
      "execution_count": 2,
      "outputs": []
    },
    {
      "cell_type": "markdown",
      "metadata": {
        "id": "uEHaJ4F3cgjM"
      },
      "source": [
        "# Simulations"
      ]
    },
    {
      "cell_type": "markdown",
      "metadata": {
        "id": "A1cF9sF8cuPR"
      },
      "source": [
        "First we will show some examples of population trajetories"
      ]
    },
    {
      "cell_type": "code",
      "metadata": {
        "colab": {
          "base_uri": "https://localhost:8080/"
        },
        "id": "awnJdN_ycjX1",
        "outputId": "9090a3f8-5dc9-43ea-af93-c8a7c62533b0"
      },
      "source": [
        "N,V,T,L = make_population_csr(10000,0.00,0.2,0.01,1)"
      ],
      "execution_count": 4,
      "outputs": [
        {
          "output_type": "stream",
          "text": [
            "/usr/local/lib/python3.7/dist-packages/ipykernel_launcher.py:47: RuntimeWarning: invalid value encountered in log\n"
          ],
          "name": "stderr"
        }
      ]
    },
    {
      "cell_type": "code",
      "metadata": {
        "colab": {
          "base_uri": "https://localhost:8080/",
          "height": 282
        },
        "id": "QUGKm0QAcm1k",
        "outputId": "57b2905b-2ad9-4b20-ea31-b47ec456cad0"
      },
      "source": [
        "plt.semilogy(T,N)\n",
        "plt.semilogy(T,V)"
      ],
      "execution_count": 5,
      "outputs": [
        {
          "output_type": "execute_result",
          "data": {
            "text/plain": [
              "[<matplotlib.lines.Line2D at 0x7f2d2ee6bcd0>]"
            ]
          },
          "metadata": {
            "tags": []
          },
          "execution_count": 5
        },
        {
          "output_type": "display_data",
          "data": {
            "image/png": "[encoded data removed]",
            "text/plain": [
              "<Figure size 432x288 with 1 Axes>"
            ]
          },
          "metadata": {
            "tags": [],
            "needs_background": "light"
          }
        }
      ]
    },
    {
      "cell_type": "markdown",
      "metadata": {
        "id": "EVSLoGvAcxwX"
      },
      "source": [
        "Here are some lineage trajectories showing the different between size with and without cell-size control"
      ]
    },
    {
      "cell_type": "code",
      "metadata": {
        "colab": {
          "base_uri": "https://localhost:8080/",
          "height": 297
        },
        "id": "S8IWloFAc4rO",
        "outputId": "6d2e24c5-d1f7-4e8a-a70a-cb08798380a1"
      },
      "source": [
        "fig,axs = plt.subplots(nrows = 2,figsize=(5,4),sharex=True)\n",
        "\n",
        "ax = axs[0]\n",
        "t,v,tb,vb = cell_size_trajectory(1,0.,0.2,55)\n",
        "ax.plot(tb,vb,label=r'No size-control ($\\alpha=0$)')\n",
        "ax.set_ylabel('log Volume')\n",
        "ax.legend(frameon=False)\n",
        "\n",
        "ax = axs[1]\n",
        "t,v,tb,vb = cell_size_trajectory(1,0.5,0.1,55)\n",
        "ax.plot(tb,vb,label=r'Size-control ($\\alpha=1/2$)')\n",
        "\n",
        "ax.set_ylabel('log Volume')\n",
        "ax.set_xlabel('Time')\n",
        "ax.set_ylim([-1,3])\n",
        "ax.legend(frameon=False)\n",
        "plt.tight_layout()"
      ],
      "execution_count": 7,
      "outputs": [
        {
          "output_type": "display_data",
          "data": {
            "image/png": "[encoded data removed]",
            "text/plain": [
              "<Figure size 360x288 with 2 Axes>"
            ]
          },
          "metadata": {
            "tags": [],
            "needs_background": "light"
          }
        }
      ]
    },
    {
      "cell_type": "code",
      "metadata": {
        "id": "i2Q5DGDhc5D2"
      },
      "source": [
        ""
      ],
      "execution_count": null,
      "outputs": []
    }
  ]
}