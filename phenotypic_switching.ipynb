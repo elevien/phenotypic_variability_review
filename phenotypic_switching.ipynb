{
  "nbformat": 4,
  "nbformat_minor": 0,
  "metadata": {
    "colab": {
      "name": "phenotypic_switching.ipynb",
      "provenance": [],
      "collapsed_sections": [],
      "authorship_tag": "ABX9TyMm4KHMvcNCVzwJtxi5+kyw",
      "include_colab_link": true
    },
    "kernelspec": {
      "name": "python3",
      "display_name": "Python 3"
    },
    "language_info": {
      "name": "python"
    }
  },
  "cells": [
    {
      "cell_type": "markdown",
      "metadata": {
        "id": "view-in-github",
        "colab_type": "text"
      },
      "source": [
        "<a href=\"https://colab.research.google.com/github/elevien/phenotypic_variability_review/blob/main/phenotypic_switching.ipynb\" target=\"_parent\"><img src=\"https://colab.research.google.com/assets/colab-badge.svg\" alt=\"Open In Colab\"/></a>"
      ]
    },
    {
      "cell_type": "code",
      "metadata": {
        "id": "HHdGzzsxpQO6"
      },
      "source": [
        "import numpy as np\n",
        "import matplotlib.pyplot as plt\n",
        "from scipy.integrate import solve_ivp\n",
        "%config InlineBackend.figure_format = \"svg\""
      ],
      "execution_count": null,
      "outputs": []
    },
    {
      "cell_type": "code",
      "metadata": {
        "id": "lekYqxKHpWME"
      },
      "source": [
        "def growth_rate(y):\n",
        "  L1 = (1-y[2])*1 + 1.5*y[2]\n",
        "  L2 = (1-y[2])*1.5 + 1.*y[2]\n",
        "  D = L1*y[0]/(y[0]+y[1]) + L2*y[1]/(y[0]+y[1]) \n",
        "  return D,L1,L2\n",
        "\n",
        "def switching_ode(t, y,h):\n",
        "  y_new = np.zeros(3)\n",
        "  D,L1,L2 = growth_rate(y)   \n",
        "  y_new[0] = (L1-D)*y[0] + h*(y[1] - y[0]) \n",
        "  y_new[1] = (L2-D)*y[1] - h*(y[1] - y[0]) \n",
        "  return y_new\n",
        "\n",
        "def run_population(y0,environment,h):\n",
        "  Y = []\n",
        "  T = []\n",
        "  epochs = environment[0]\n",
        "  states = environment[1]\n",
        "  y_last = [y0[0],y0[1],states[0]]\n",
        "  \n",
        "  for k in range(len(epochs))[:-1]:\n",
        "    sol = solve_ivp(switching_ode, [epochs[k],epochs[k+1]], y_last,args=[h])\n",
        "    Y.append(sol.y)\n",
        "    T.append(sol.t)\n",
        "    y_last = [sol.y[0,-1],sol.y[1,-1],states[k+1]]\n",
        "  return np.concatenate(T),np.concatenate(Y,axis=1)\n",
        "\n"
      ],
      "execution_count": null,
      "outputs": []
    },
    {
      "cell_type": "code",
      "metadata": {
        "colab": {
          "base_uri": "https://localhost:8080/",
          "height": 320
        },
        "id": "B6wEwuMAWw1y",
        "outputId": "1b968386-0d74-4b91-de51-e5399d31fc45"
      },
      "source": [
        "T,Y = run_population([0.5,1],[[0,100,200],[0,1,0]],0.004)\n",
        "T,Y = T[10:-1],Y[:,10:-1]\n",
        "fig,axs = plt.subplots(ncols = 2,figsize=(10,3))\n",
        " \n",
        "ax = axs[0]\n",
        "ax.plot(T,Y[1,:]/(Y[1,:]+Y[0,:]))\n",
        "ax.plot(T,Y[0,:]/(Y[1,:]+Y[0,:]))\n",
        "ax.set_xlabel(\"time\")\n",
        "ax.set_ylim(0,1)\n",
        "\n",
        "ax = axs[1]\n",
        "ax.plot(T,[growth_rate(y)[0] for y in np.transpose(Y)])\n",
        "ax.set_ylim(0,2)"
      ],
      "execution_count": null,
      "outputs": [
        {
          "output_type": "execute_result",
          "data": {
            "text/plain": [
              "(0.0, 2.0)"
            ]
          },
          "metadata": {
            "tags": []
          },
          "execution_count": 5
        },
        {
          "output_type": "display_data",
          "data": {
            "text/plain": [
              "<Figure size 720x216 with 2 Axes>"
            ],
            "image/svg+xml": "<?xml version=\"1.0\" encoding=\"utf-8\" standalone=\"no\"?>\n<!DOCTYPE svg PUBLIC \"-//W3C//DTD SVG 1.1//EN\"\n  \"http://www.w3.org/Graphics/SVG/1.1/DTD/svg11.dtd\">\n<!-- Created with matplotlib (https://matplotlib.org/) -->\n<svg height=\"211.635469pt\" version=\"1.1\" viewBox=\"0 0 601.728576 211.635469\" width=\"601.728576pt\" xmlns=\"http://www.w3.org/2000/svg\" xmlns:xlink=\"http://www.w3.org/1999/xlink\">\n <defs>\n  <style type=\"text/css\">\n*{stroke-linecap:butt;stroke-linejoin:round;}\n  </style>\n </defs>\n <g id=\"figure_1\">\n  <g id=\"patch_1\">\n   <path d=\"M -0 211.635469 \nL 601.728576 211.635469 \nL 601.728576 0 \nL -0 0 \nz\n\" style=\"fill:none;\"/>\n  </g>\n  <g id=\"axes_1\">\n   <g id=\"patch_2\">\n    <path d=\"M 30.103125 174.079219 \nL 283.739489 174.079219 \nL 283.739489 10.999219 \nL 30.103125 10.999219 \nz\n\" style=\"fill:#ffffff;\"/>\n   </g>\n   <g id=\"matplotlib.axis_1\">\n    <g id=\"xtick_1\">\n     <g id=\"line2d_1\">\n      <defs>\n       <path d=\"M 0 0 \nL 0 3.5 \n\" id=\"mcc4826b39f\" style=\"stroke:#000000;stroke-width:0.8;\"/>\n      </defs>\n      <g>\n       <use style=\"stroke:#000000;stroke-width:0.8;\" x=\"46.736665\" xlink:href=\"#mcc4826b39f\" y=\"174.079219\"/>\n      </g>\n     </g>\n     <g id=\"text_1\">\n      <!-- 25 -->\n      <defs>\n       <path d=\"M 19.1875 8.296875 \nL 53.609375 8.296875 \nL 53.609375 0 \nL 7.328125 0 \nL 7.328125 8.296875 \nQ 12.9375 14.109375 22.625 23.890625 \nQ 32.328125 33.6875 34.8125 36.53125 \nQ 39.546875 41.84375 41.421875 45.53125 \nQ 43.3125 49.21875 43.3125 52.78125 \nQ 43.3125 58.59375 39.234375 62.25 \nQ 35.15625 65.921875 28.609375 65.921875 \nQ 23.96875 65.921875 18.8125 64.3125 \nQ 13.671875 62.703125 7.8125 59.421875 \nL 7.8125 69.390625 \nQ 13.765625 71.78125 18.9375 73 \nQ 24.125 74.21875 28.421875 74.21875 \nQ 39.75 74.21875 46.484375 68.546875 \nQ 53.21875 62.890625 53.21875 53.421875 \nQ 53.21875 48.921875 51.53125 44.890625 \nQ 49.859375 40.875 45.40625 35.40625 \nQ 44.1875 33.984375 37.640625 27.21875 \nQ 31.109375 20.453125 19.1875 8.296875 \nz\n\" id=\"DejaVuSans-50\"/>\n       <path d=\"M 10.796875 72.90625 \nL 49.515625 72.90625 \nL 49.515625 64.59375 \nL 19.828125 64.59375 \nL 19.828125 46.734375 \nQ 21.96875 47.46875 24.109375 47.828125 \nQ 26.265625 48.1875 28.421875 48.1875 \nQ 40.625 48.1875 47.75 41.5 \nQ 54.890625 34.8125 54.890625 23.390625 \nQ 54.890625 11.625 47.5625 5.09375 \nQ 40.234375 -1.421875 26.90625 -1.421875 \nQ 22.3125 -1.421875 17.546875 -0.640625 \nQ 12.796875 0.140625 7.71875 1.703125 \nL 7.71875 11.625 \nQ 12.109375 9.234375 16.796875 8.0625 \nQ 21.484375 6.890625 26.703125 6.890625 \nQ 35.15625 6.890625 40.078125 11.328125 \nQ 45.015625 15.765625 45.015625 23.390625 \nQ 45.015625 31 40.078125 35.4375 \nQ 35.15625 39.890625 26.703125 39.890625 \nQ 22.75 39.890625 18.8125 39.015625 \nQ 14.890625 38.140625 10.796875 36.28125 \nz\n\" id=\"DejaVuSans-53\"/>\n      </defs>\n      <g transform=\"translate(40.374165 188.677656)scale(0.1 -0.1)\">\n       <use xlink:href=\"#DejaVuSans-50\"/>\n       <use x=\"63.623047\" xlink:href=\"#DejaVuSans-53\"/>\n      </g>\n     </g>\n    </g>\n    <g id=\"xtick_2\">\n     <g id=\"line2d_2\">\n      <g>\n       <use style=\"stroke:#000000;stroke-width:0.8;\" x=\"80.14874\" xlink:href=\"#mcc4826b39f\" y=\"174.079219\"/>\n      </g>\n     </g>\n     <g id=\"text_2\">\n      <!-- 50 -->\n      <defs>\n       <path d=\"M 31.78125 66.40625 \nQ 24.171875 66.40625 20.328125 58.90625 \nQ 16.5 51.421875 16.5 36.375 \nQ 16.5 21.390625 20.328125 13.890625 \nQ 24.171875 6.390625 31.78125 6.390625 \nQ 39.453125 6.390625 43.28125 13.890625 \nQ 47.125 21.390625 47.125 36.375 \nQ 47.125 51.421875 43.28125 58.90625 \nQ 39.453125 66.40625 31.78125 66.40625 \nz\nM 31.78125 74.21875 \nQ 44.046875 74.21875 50.515625 64.515625 \nQ 56.984375 54.828125 56.984375 36.375 \nQ 56.984375 17.96875 50.515625 8.265625 \nQ 44.046875 -1.421875 31.78125 -1.421875 \nQ 19.53125 -1.421875 13.0625 8.265625 \nQ 6.59375 17.96875 6.59375 36.375 \nQ 6.59375 54.828125 13.0625 64.515625 \nQ 19.53125 74.21875 31.78125 74.21875 \nz\n\" id=\"DejaVuSans-48\"/>\n      </defs>\n      <g transform=\"translate(73.78624 188.677656)scale(0.1 -0.1)\">\n       <use xlink:href=\"#DejaVuSans-53\"/>\n       <use x=\"63.623047\" xlink:href=\"#DejaVuSans-48\"/>\n      </g>\n     </g>\n    </g>\n    <g id=\"xtick_3\">\n     <g id=\"line2d_3\">\n      <g>\n       <use style=\"stroke:#000000;stroke-width:0.8;\" x=\"113.560815\" xlink:href=\"#mcc4826b39f\" y=\"174.079219\"/>\n      </g>\n     </g>\n     <g id=\"text_3\">\n      <!-- 75 -->\n      <defs>\n       <path d=\"M 8.203125 72.90625 \nL 55.078125 72.90625 \nL 55.078125 68.703125 \nL 28.609375 0 \nL 18.3125 0 \nL 43.21875 64.59375 \nL 8.203125 64.59375 \nz\n\" id=\"DejaVuSans-55\"/>\n      </defs>\n      <g transform=\"translate(107.198315 188.677656)scale(0.1 -0.1)\">\n       <use xlink:href=\"#DejaVuSans-55\"/>\n       <use x=\"63.623047\" xlink:href=\"#DejaVuSans-53\"/>\n      </g>\n     </g>\n    </g>\n    <g id=\"xtick_4\">\n     <g id=\"line2d_4\">\n      <g>\n       <use style=\"stroke:#000000;stroke-width:0.8;\" x=\"146.97289\" xlink:href=\"#mcc4826b39f\" y=\"174.079219\"/>\n      </g>\n     </g>\n     <g id=\"text_4\">\n      <!-- 100 -->\n      <defs>\n       <path d=\"M 12.40625 8.296875 \nL 28.515625 8.296875 \nL 28.515625 63.921875 \nL 10.984375 60.40625 \nL 10.984375 69.390625 \nL 28.421875 72.90625 \nL 38.28125 72.90625 \nL 38.28125 8.296875 \nL 54.390625 8.296875 \nL 54.390625 0 \nL 12.40625 0 \nz\n\" id=\"DejaVuSans-49\"/>\n      </defs>\n      <g transform=\"translate(137.42914 188.677656)scale(0.1 -0.1)\">\n       <use xlink:href=\"#DejaVuSans-49\"/>\n       <use x=\"63.623047\" xlink:href=\"#DejaVuSans-48\"/>\n       <use x=\"127.246094\" xlink:href=\"#DejaVuSans-48\"/>\n      </g>\n     </g>\n    </g>\n    <g id=\"xtick_5\">\n     <g id=\"line2d_5\">\n      <g>\n       <use style=\"stroke:#000000;stroke-width:0.8;\" x=\"180.384965\" xlink:href=\"#mcc4826b39f\" y=\"174.079219\"/>\n      </g>\n     </g>\n     <g id=\"text_5\">\n      <!-- 125 -->\n      <g transform=\"translate(170.841215 188.677656)scale(0.1 -0.1)\">\n       <use xlink:href=\"#DejaVuSans-49\"/>\n       <use x=\"63.623047\" xlink:href=\"#DejaVuSans-50\"/>\n       <use x=\"127.246094\" xlink:href=\"#DejaVuSans-53\"/>\n      </g>\n     </g>\n    </g>\n    <g id=\"xtick_6\">\n     <g id=\"line2d_6\">\n      <g>\n       <use style=\"stroke:#000000;stroke-width:0.8;\" x=\"213.797039\" xlink:href=\"#mcc4826b39f\" y=\"174.079219\"/>\n      </g>\n     </g>\n     <g id=\"text_6\">\n      <!-- 150 -->\n      <g transform=\"translate(204.253289 188.677656)scale(0.1 -0.1)\">\n       <use xlink:href=\"#DejaVuSans-49\"/>\n       <use x=\"63.623047\" xlink:href=\"#DejaVuSans-53\"/>\n       <use x=\"127.246094\" xlink:href=\"#DejaVuSans-48\"/>\n      </g>\n     </g>\n    </g>\n    <g id=\"xtick_7\">\n     <g id=\"line2d_7\">\n      <g>\n       <use style=\"stroke:#000000;stroke-width:0.8;\" x=\"247.209114\" xlink:href=\"#mcc4826b39f\" y=\"174.079219\"/>\n      </g>\n     </g>\n     <g id=\"text_7\">\n      <!-- 175 -->\n      <g transform=\"translate(237.665364 188.677656)scale(0.1 -0.1)\">\n       <use xlink:href=\"#DejaVuSans-49\"/>\n       <use x=\"63.623047\" xlink:href=\"#DejaVuSans-55\"/>\n       <use x=\"127.246094\" xlink:href=\"#DejaVuSans-53\"/>\n      </g>\n     </g>\n    </g>\n    <g id=\"xtick_8\">\n     <g id=\"line2d_8\">\n      <g>\n       <use style=\"stroke:#000000;stroke-width:0.8;\" x=\"280.621189\" xlink:href=\"#mcc4826b39f\" y=\"174.079219\"/>\n      </g>\n     </g>\n     <g id=\"text_8\">\n      <!-- 200 -->\n      <g transform=\"translate(271.077439 188.677656)scale(0.1 -0.1)\">\n       <use xlink:href=\"#DejaVuSans-50\"/>\n       <use x=\"63.623047\" xlink:href=\"#DejaVuSans-48\"/>\n       <use x=\"127.246094\" xlink:href=\"#DejaVuSans-48\"/>\n      </g>\n     </g>\n    </g>\n    <g id=\"text_9\">\n     <!-- time -->\n     <defs>\n      <path d=\"M 18.3125 70.21875 \nL 18.3125 54.6875 \nL 36.8125 54.6875 \nL 36.8125 47.703125 \nL 18.3125 47.703125 \nL 18.3125 18.015625 \nQ 18.3125 11.328125 20.140625 9.421875 \nQ 21.96875 7.515625 27.59375 7.515625 \nL 36.8125 7.515625 \nL 36.8125 0 \nL 27.59375 0 \nQ 17.1875 0 13.234375 3.875 \nQ 9.28125 7.765625 9.28125 18.015625 \nL 9.28125 47.703125 \nL 2.6875 47.703125 \nL 2.6875 54.6875 \nL 9.28125 54.6875 \nL 9.28125 70.21875 \nz\n\" id=\"DejaVuSans-116\"/>\n      <path d=\"M 9.421875 54.6875 \nL 18.40625 54.6875 \nL 18.40625 0 \nL 9.421875 0 \nz\nM 9.421875 75.984375 \nL 18.40625 75.984375 \nL 18.40625 64.59375 \nL 9.421875 64.59375 \nz\n\" id=\"DejaVuSans-105\"/>\n      <path d=\"M 52 44.1875 \nQ 55.375 50.25 60.0625 53.125 \nQ 64.75 56 71.09375 56 \nQ 79.640625 56 84.28125 50.015625 \nQ 88.921875 44.046875 88.921875 33.015625 \nL 88.921875 0 \nL 79.890625 0 \nL 79.890625 32.71875 \nQ 79.890625 40.578125 77.09375 44.375 \nQ 74.3125 48.1875 68.609375 48.1875 \nQ 61.625 48.1875 57.5625 43.546875 \nQ 53.515625 38.921875 53.515625 30.90625 \nL 53.515625 0 \nL 44.484375 0 \nL 44.484375 32.71875 \nQ 44.484375 40.625 41.703125 44.40625 \nQ 38.921875 48.1875 33.109375 48.1875 \nQ 26.21875 48.1875 22.15625 43.53125 \nQ 18.109375 38.875 18.109375 30.90625 \nL 18.109375 0 \nL 9.078125 0 \nL 9.078125 54.6875 \nL 18.109375 54.6875 \nL 18.109375 46.1875 \nQ 21.1875 51.21875 25.484375 53.609375 \nQ 29.78125 56 35.6875 56 \nQ 41.65625 56 45.828125 52.96875 \nQ 50 49.953125 52 44.1875 \nz\n\" id=\"DejaVuSans-109\"/>\n      <path d=\"M 56.203125 29.59375 \nL 56.203125 25.203125 \nL 14.890625 25.203125 \nQ 15.484375 15.921875 20.484375 11.0625 \nQ 25.484375 6.203125 34.421875 6.203125 \nQ 39.59375 6.203125 44.453125 7.46875 \nQ 49.3125 8.734375 54.109375 11.28125 \nL 54.109375 2.78125 \nQ 49.265625 0.734375 44.1875 -0.34375 \nQ 39.109375 -1.421875 33.890625 -1.421875 \nQ 20.796875 -1.421875 13.15625 6.1875 \nQ 5.515625 13.8125 5.515625 26.8125 \nQ 5.515625 40.234375 12.765625 48.109375 \nQ 20.015625 56 32.328125 56 \nQ 43.359375 56 49.78125 48.890625 \nQ 56.203125 41.796875 56.203125 29.59375 \nz\nM 47.21875 32.234375 \nQ 47.125 39.59375 43.09375 43.984375 \nQ 39.0625 48.390625 32.421875 48.390625 \nQ 24.90625 48.390625 20.390625 44.140625 \nQ 15.875 39.890625 15.1875 32.171875 \nz\n\" id=\"DejaVuSans-101\"/>\n     </defs>\n     <g transform=\"translate(145.625213 202.355781)scale(0.1 -0.1)\">\n      <use xlink:href=\"#DejaVuSans-116\"/>\n      <use x=\"39.208984\" xlink:href=\"#DejaVuSans-105\"/>\n      <use x=\"66.992188\" xlink:href=\"#DejaVuSans-109\"/>\n      <use x=\"164.404297\" xlink:href=\"#DejaVuSans-101\"/>\n     </g>\n    </g>\n   </g>\n   <g id=\"matplotlib.axis_2\">\n    <g id=\"ytick_1\">\n     <g id=\"line2d_9\">\n      <defs>\n       <path d=\"M 0 0 \nL -3.5 0 \n\" id=\"m233b82943b\" style=\"stroke:#000000;stroke-width:0.8;\"/>\n      </defs>\n      <g>\n       <use style=\"stroke:#000000;stroke-width:0.8;\" x=\"30.103125\" xlink:href=\"#m233b82943b\" y=\"174.079219\"/>\n      </g>\n     </g>\n     <g id=\"text_10\">\n      <!-- 0.0 -->\n      <defs>\n       <path d=\"M 10.6875 12.40625 \nL 21 12.40625 \nL 21 0 \nL 10.6875 0 \nz\n\" id=\"DejaVuSans-46\"/>\n      </defs>\n      <g transform=\"translate(7.2 177.878437)scale(0.1 -0.1)\">\n       <use xlink:href=\"#DejaVuSans-48\"/>\n       <use x=\"63.623047\" xlink:href=\"#DejaVuSans-46\"/>\n       <use x=\"95.410156\" xlink:href=\"#DejaVuSans-48\"/>\n      </g>\n     </g>\n    </g>\n    <g id=\"ytick_2\">\n     <g id=\"line2d_10\">\n      <g>\n       <use style=\"stroke:#000000;stroke-width:0.8;\" x=\"30.103125\" xlink:href=\"#m233b82943b\" y=\"141.463219\"/>\n      </g>\n     </g>\n     <g id=\"text_11\">\n      <!-- 0.2 -->\n      <g transform=\"translate(7.2 145.262437)scale(0.1 -0.1)\">\n       <use xlink:href=\"#DejaVuSans-48\"/>\n       <use x=\"63.623047\" xlink:href=\"#DejaVuSans-46\"/>\n       <use x=\"95.410156\" xlink:href=\"#DejaVuSans-50\"/>\n      </g>\n     </g>\n    </g>\n    <g id=\"ytick_3\">\n     <g id=\"line2d_11\">\n      <g>\n       <use style=\"stroke:#000000;stroke-width:0.8;\" x=\"30.103125\" xlink:href=\"#m233b82943b\" y=\"108.847219\"/>\n      </g>\n     </g>\n     <g id=\"text_12\">\n      <!-- 0.4 -->\n      <defs>\n       <path d=\"M 37.796875 64.3125 \nL 12.890625 25.390625 \nL 37.796875 25.390625 \nz\nM 35.203125 72.90625 \nL 47.609375 72.90625 \nL 47.609375 25.390625 \nL 58.015625 25.390625 \nL 58.015625 17.1875 \nL 47.609375 17.1875 \nL 47.609375 0 \nL 37.796875 0 \nL 37.796875 17.1875 \nL 4.890625 17.1875 \nL 4.890625 26.703125 \nz\n\" id=\"DejaVuSans-52\"/>\n      </defs>\n      <g transform=\"translate(7.2 112.646437)scale(0.1 -0.1)\">\n       <use xlink:href=\"#DejaVuSans-48\"/>\n       <use x=\"63.623047\" xlink:href=\"#DejaVuSans-46\"/>\n       <use x=\"95.410156\" xlink:href=\"#DejaVuSans-52\"/>\n      </g>\n     </g>\n    </g>\n    <g id=\"ytick_4\">\n     <g id=\"line2d_12\">\n      <g>\n       <use style=\"stroke:#000000;stroke-width:0.8;\" x=\"30.103125\" xlink:href=\"#m233b82943b\" y=\"76.231219\"/>\n      </g>\n     </g>\n     <g id=\"text_13\">\n      <!-- 0.6 -->\n      <defs>\n       <path d=\"M 33.015625 40.375 \nQ 26.375 40.375 22.484375 35.828125 \nQ 18.609375 31.296875 18.609375 23.390625 \nQ 18.609375 15.53125 22.484375 10.953125 \nQ 26.375 6.390625 33.015625 6.390625 \nQ 39.65625 6.390625 43.53125 10.953125 \nQ 47.40625 15.53125 47.40625 23.390625 \nQ 47.40625 31.296875 43.53125 35.828125 \nQ 39.65625 40.375 33.015625 40.375 \nz\nM 52.59375 71.296875 \nL 52.59375 62.3125 \nQ 48.875 64.0625 45.09375 64.984375 \nQ 41.3125 65.921875 37.59375 65.921875 \nQ 27.828125 65.921875 22.671875 59.328125 \nQ 17.53125 52.734375 16.796875 39.40625 \nQ 19.671875 43.65625 24.015625 45.921875 \nQ 28.375 48.1875 33.59375 48.1875 \nQ 44.578125 48.1875 50.953125 41.515625 \nQ 57.328125 34.859375 57.328125 23.390625 \nQ 57.328125 12.15625 50.6875 5.359375 \nQ 44.046875 -1.421875 33.015625 -1.421875 \nQ 20.359375 -1.421875 13.671875 8.265625 \nQ 6.984375 17.96875 6.984375 36.375 \nQ 6.984375 53.65625 15.1875 63.9375 \nQ 23.390625 74.21875 37.203125 74.21875 \nQ 40.921875 74.21875 44.703125 73.484375 \nQ 48.484375 72.75 52.59375 71.296875 \nz\n\" id=\"DejaVuSans-54\"/>\n      </defs>\n      <g transform=\"translate(7.2 80.030437)scale(0.1 -0.1)\">\n       <use xlink:href=\"#DejaVuSans-48\"/>\n       <use x=\"63.623047\" xlink:href=\"#DejaVuSans-46\"/>\n       <use x=\"95.410156\" xlink:href=\"#DejaVuSans-54\"/>\n      </g>\n     </g>\n    </g>\n    <g id=\"ytick_5\">\n     <g id=\"line2d_13\">\n      <g>\n       <use style=\"stroke:#000000;stroke-width:0.8;\" x=\"30.103125\" xlink:href=\"#m233b82943b\" y=\"43.615219\"/>\n      </g>\n     </g>\n     <g id=\"text_14\">\n      <!-- 0.8 -->\n      <defs>\n       <path d=\"M 31.78125 34.625 \nQ 24.75 34.625 20.71875 30.859375 \nQ 16.703125 27.09375 16.703125 20.515625 \nQ 16.703125 13.921875 20.71875 10.15625 \nQ 24.75 6.390625 31.78125 6.390625 \nQ 38.8125 6.390625 42.859375 10.171875 \nQ 46.921875 13.96875 46.921875 20.515625 \nQ 46.921875 27.09375 42.890625 30.859375 \nQ 38.875 34.625 31.78125 34.625 \nz\nM 21.921875 38.8125 \nQ 15.578125 40.375 12.03125 44.71875 \nQ 8.5 49.078125 8.5 55.328125 \nQ 8.5 64.0625 14.71875 69.140625 \nQ 20.953125 74.21875 31.78125 74.21875 \nQ 42.671875 74.21875 48.875 69.140625 \nQ 55.078125 64.0625 55.078125 55.328125 \nQ 55.078125 49.078125 51.53125 44.71875 \nQ 48 40.375 41.703125 38.8125 \nQ 48.828125 37.15625 52.796875 32.3125 \nQ 56.78125 27.484375 56.78125 20.515625 \nQ 56.78125 9.90625 50.3125 4.234375 \nQ 43.84375 -1.421875 31.78125 -1.421875 \nQ 19.734375 -1.421875 13.25 4.234375 \nQ 6.78125 9.90625 6.78125 20.515625 \nQ 6.78125 27.484375 10.78125 32.3125 \nQ 14.796875 37.15625 21.921875 38.8125 \nz\nM 18.3125 54.390625 \nQ 18.3125 48.734375 21.84375 45.5625 \nQ 25.390625 42.390625 31.78125 42.390625 \nQ 38.140625 42.390625 41.71875 45.5625 \nQ 45.3125 48.734375 45.3125 54.390625 \nQ 45.3125 60.0625 41.71875 63.234375 \nQ 38.140625 66.40625 31.78125 66.40625 \nQ 25.390625 66.40625 21.84375 63.234375 \nQ 18.3125 60.0625 18.3125 54.390625 \nz\n\" id=\"DejaVuSans-56\"/>\n      </defs>\n      <g transform=\"translate(7.2 47.414437)scale(0.1 -0.1)\">\n       <use xlink:href=\"#DejaVuSans-48\"/>\n       <use x=\"63.623047\" xlink:href=\"#DejaVuSans-46\"/>\n       <use x=\"95.410156\" xlink:href=\"#DejaVuSans-56\"/>\n      </g>\n     </g>\n    </g>\n    <g id=\"ytick_6\">\n     <g id=\"line2d_14\">\n      <g>\n       <use style=\"stroke:#000000;stroke-width:0.8;\" x=\"30.103125\" xlink:href=\"#m233b82943b\" y=\"10.999219\"/>\n      </g>\n     </g>\n     <g id=\"text_15\">\n      <!-- 1.0 -->\n      <g transform=\"translate(7.2 14.798437)scale(0.1 -0.1)\">\n       <use xlink:href=\"#DejaVuSans-49\"/>\n       <use x=\"63.623047\" xlink:href=\"#DejaVuSans-46\"/>\n       <use x=\"95.410156\" xlink:href=\"#DejaVuSans-48\"/>\n      </g>\n     </g>\n    </g>\n   </g>\n   <g id=\"line2d_15\">\n    <path clip-path=\"url(#pe5a30d4a57)\" d=\"M 41.632051 12.29573 \nL 47.959432 12.293898 \nL 56.553503 12.293824 \nL 67.803426 12.295255 \nL 76.013348 12.294607 \nL 84.22327 12.294188 \nL 93.666416 12.294575 \nL 103.72896 12.296011 \nL 111.658768 12.294798 \nL 119.588576 12.294153 \nL 128.805407 12.294369 \nL 139.005312 12.295737 \nL 146.97289 12.294686 \nL 146.97289 12.294686 \nL 147.124737 12.444717 \nL 148.643211 14.494328 \nL 151.848689 24.624835 \nL 156.00793 62.496565 \nL 161.077404 133.894922 \nL 163.531018 154.661069 \nL 165.984633 165.031384 \nL 169.082367 170.268891 \nL 171.883785 171.893018 \nL 174.76462 172.479801 \nL 177.906695 172.69033 \nL 181.537777 172.760372 \nL 185.946828 172.780009 \nL 191.553932 172.784142 \nL 199.034985 172.784674 \nL 209.221874 172.784188 \nL 218.749086 172.783699 \nL 228.276298 172.782921 \nL 237.293473 172.782645 \nL 245.589832 172.783387 \nL 253.797368 172.783964 \nL 262.660032 172.783946 \nL 272.210563 172.783287 \n\" style=\"fill:none;stroke:#1f77b4;stroke-linecap:square;stroke-width:1.5;\"/>\n   </g>\n   <g id=\"line2d_16\">\n    <path clip-path=\"url(#pe5a30d4a57)\" d=\"M 41.632051 172.782708 \nL 47.959432 172.78454 \nL 56.553503 172.784613 \nL 67.803426 172.783182 \nL 76.013348 172.78383 \nL 84.22327 172.784249 \nL 93.666416 172.783862 \nL 103.72896 172.782427 \nL 111.658768 172.783639 \nL 119.588576 172.784284 \nL 128.805407 172.784069 \nL 139.005312 172.7827 \nL 146.97289 172.783752 \nL 146.97289 172.783752 \nL 147.124737 172.63372 \nL 148.643211 170.584109 \nL 151.848689 160.453603 \nL 156.00793 122.581873 \nL 161.077404 51.183515 \nL 163.531018 30.417368 \nL 165.984633 20.047054 \nL 169.082367 14.809547 \nL 171.883785 13.18542 \nL 174.76462 12.598637 \nL 177.906695 12.388107 \nL 181.537777 12.318066 \nL 185.946828 12.298428 \nL 191.553932 12.294295 \nL 199.034985 12.293763 \nL 209.221874 12.294249 \nL 218.749086 12.294738 \nL 228.276298 12.295516 \nL 237.293473 12.295792 \nL 245.589832 12.29505 \nL 253.797368 12.294473 \nL 262.660032 12.294492 \nL 272.210563 12.295151 \n\" style=\"fill:none;stroke:#ff7f0e;stroke-linecap:square;stroke-width:1.5;\"/>\n   </g>\n   <g id=\"patch_3\">\n    <path d=\"M 30.103125 174.079219 \nL 30.103125 10.999219 \n\" style=\"fill:none;stroke:#000000;stroke-linecap:square;stroke-linejoin:miter;stroke-width:0.8;\"/>\n   </g>\n   <g id=\"patch_4\">\n    <path d=\"M 283.739489 174.079219 \nL 283.739489 10.999219 \n\" style=\"fill:none;stroke:#000000;stroke-linecap:square;stroke-linejoin:miter;stroke-width:0.8;\"/>\n   </g>\n   <g id=\"patch_5\">\n    <path d=\"M 30.103125 174.079219 \nL 283.739489 174.079219 \n\" style=\"fill:none;stroke:#000000;stroke-linecap:square;stroke-linejoin:miter;stroke-width:0.8;\"/>\n   </g>\n   <g id=\"patch_6\">\n    <path d=\"M 30.103125 10.999219 \nL 283.739489 10.999219 \n\" style=\"fill:none;stroke:#000000;stroke-linecap:square;stroke-linejoin:miter;stroke-width:0.8;\"/>\n   </g>\n  </g>\n  <g id=\"axes_2\">\n   <g id=\"patch_7\">\n    <path d=\"M 334.466761 174.079219 \nL 588.103125 174.079219 \nL 588.103125 10.999219 \nL 334.466761 10.999219 \nz\n\" style=\"fill:#ffffff;\"/>\n   </g>\n   <g id=\"matplotlib.axis_3\">\n    <g id=\"xtick_9\">\n     <g id=\"line2d_17\">\n      <g>\n       <use style=\"stroke:#000000;stroke-width:0.8;\" x=\"351.100301\" xlink:href=\"#mcc4826b39f\" y=\"174.079219\"/>\n      </g>\n     </g>\n     <g id=\"text_16\">\n      <!-- 25 -->\n      <g transform=\"translate(344.737801 188.677656)scale(0.1 -0.1)\">\n       <use xlink:href=\"#DejaVuSans-50\"/>\n       <use x=\"63.623047\" xlink:href=\"#DejaVuSans-53\"/>\n      </g>\n     </g>\n    </g>\n    <g id=\"xtick_10\">\n     <g id=\"line2d_18\">\n      <g>\n       <use style=\"stroke:#000000;stroke-width:0.8;\" x=\"384.512376\" xlink:href=\"#mcc4826b39f\" y=\"174.079219\"/>\n      </g>\n     </g>\n     <g id=\"text_17\">\n      <!-- 50 -->\n      <g transform=\"translate(378.149876 188.677656)scale(0.1 -0.1)\">\n       <use xlink:href=\"#DejaVuSans-53\"/>\n       <use x=\"63.623047\" xlink:href=\"#DejaVuSans-48\"/>\n      </g>\n     </g>\n    </g>\n    <g id=\"xtick_11\">\n     <g id=\"line2d_19\">\n      <g>\n       <use style=\"stroke:#000000;stroke-width:0.8;\" x=\"417.924451\" xlink:href=\"#mcc4826b39f\" y=\"174.079219\"/>\n      </g>\n     </g>\n     <g id=\"text_18\">\n      <!-- 75 -->\n      <g transform=\"translate(411.561951 188.677656)scale(0.1 -0.1)\">\n       <use xlink:href=\"#DejaVuSans-55\"/>\n       <use x=\"63.623047\" xlink:href=\"#DejaVuSans-53\"/>\n      </g>\n     </g>\n    </g>\n    <g id=\"xtick_12\">\n     <g id=\"line2d_20\">\n      <g>\n       <use style=\"stroke:#000000;stroke-width:0.8;\" x=\"451.336526\" xlink:href=\"#mcc4826b39f\" y=\"174.079219\"/>\n      </g>\n     </g>\n     <g id=\"text_19\">\n      <!-- 100 -->\n      <g transform=\"translate(441.792776 188.677656)scale(0.1 -0.1)\">\n       <use xlink:href=\"#DejaVuSans-49\"/>\n       <use x=\"63.623047\" xlink:href=\"#DejaVuSans-48\"/>\n       <use x=\"127.246094\" xlink:href=\"#DejaVuSans-48\"/>\n      </g>\n     </g>\n    </g>\n    <g id=\"xtick_13\">\n     <g id=\"line2d_21\">\n      <g>\n       <use style=\"stroke:#000000;stroke-width:0.8;\" x=\"484.748601\" xlink:href=\"#mcc4826b39f\" y=\"174.079219\"/>\n      </g>\n     </g>\n     <g id=\"text_20\">\n      <!-- 125 -->\n      <g transform=\"translate(475.204851 188.677656)scale(0.1 -0.1)\">\n       <use xlink:href=\"#DejaVuSans-49\"/>\n       <use x=\"63.623047\" xlink:href=\"#DejaVuSans-50\"/>\n       <use x=\"127.246094\" xlink:href=\"#DejaVuSans-53\"/>\n      </g>\n     </g>\n    </g>\n    <g id=\"xtick_14\">\n     <g id=\"line2d_22\">\n      <g>\n       <use style=\"stroke:#000000;stroke-width:0.8;\" x=\"518.160676\" xlink:href=\"#mcc4826b39f\" y=\"174.079219\"/>\n      </g>\n     </g>\n     <g id=\"text_21\">\n      <!-- 150 -->\n      <g transform=\"translate(508.616926 188.677656)scale(0.1 -0.1)\">\n       <use xlink:href=\"#DejaVuSans-49\"/>\n       <use x=\"63.623047\" xlink:href=\"#DejaVuSans-53\"/>\n       <use x=\"127.246094\" xlink:href=\"#DejaVuSans-48\"/>\n      </g>\n     </g>\n    </g>\n    <g id=\"xtick_15\">\n     <g id=\"line2d_23\">\n      <g>\n       <use style=\"stroke:#000000;stroke-width:0.8;\" x=\"551.572751\" xlink:href=\"#mcc4826b39f\" y=\"174.079219\"/>\n      </g>\n     </g>\n     <g id=\"text_22\">\n      <!-- 175 -->\n      <g transform=\"translate(542.029001 188.677656)scale(0.1 -0.1)\">\n       <use xlink:href=\"#DejaVuSans-49\"/>\n       <use x=\"63.623047\" xlink:href=\"#DejaVuSans-55\"/>\n       <use x=\"127.246094\" xlink:href=\"#DejaVuSans-53\"/>\n      </g>\n     </g>\n    </g>\n    <g id=\"xtick_16\">\n     <g id=\"line2d_24\">\n      <g>\n       <use style=\"stroke:#000000;stroke-width:0.8;\" x=\"584.984826\" xlink:href=\"#mcc4826b39f\" y=\"174.079219\"/>\n      </g>\n     </g>\n     <g id=\"text_23\">\n      <!-- 200 -->\n      <g transform=\"translate(575.441076 188.677656)scale(0.1 -0.1)\">\n       <use xlink:href=\"#DejaVuSans-50\"/>\n       <use x=\"63.623047\" xlink:href=\"#DejaVuSans-48\"/>\n       <use x=\"127.246094\" xlink:href=\"#DejaVuSans-48\"/>\n      </g>\n     </g>\n    </g>\n   </g>\n   <g id=\"matplotlib.axis_4\">\n    <g id=\"ytick_7\">\n     <g id=\"line2d_25\">\n      <g>\n       <use style=\"stroke:#000000;stroke-width:0.8;\" x=\"334.466761\" xlink:href=\"#m233b82943b\" y=\"174.079219\"/>\n      </g>\n     </g>\n     <g id=\"text_24\">\n      <!-- 0.00 -->\n      <g transform=\"translate(305.201136 177.878437)scale(0.1 -0.1)\">\n       <use xlink:href=\"#DejaVuSans-48\"/>\n       <use x=\"63.623047\" xlink:href=\"#DejaVuSans-46\"/>\n       <use x=\"95.410156\" xlink:href=\"#DejaVuSans-48\"/>\n       <use x=\"159.033203\" xlink:href=\"#DejaVuSans-48\"/>\n      </g>\n     </g>\n    </g>\n    <g id=\"ytick_8\">\n     <g id=\"line2d_26\">\n      <g>\n       <use style=\"stroke:#000000;stroke-width:0.8;\" x=\"334.466761\" xlink:href=\"#m233b82943b\" y=\"153.694219\"/>\n      </g>\n     </g>\n     <g id=\"text_25\">\n      <!-- 0.25 -->\n      <g transform=\"translate(305.201136 157.493437)scale(0.1 -0.1)\">\n       <use xlink:href=\"#DejaVuSans-48\"/>\n       <use x=\"63.623047\" xlink:href=\"#DejaVuSans-46\"/>\n       <use x=\"95.410156\" xlink:href=\"#DejaVuSans-50\"/>\n       <use x=\"159.033203\" xlink:href=\"#DejaVuSans-53\"/>\n      </g>\n     </g>\n    </g>\n    <g id=\"ytick_9\">\n     <g id=\"line2d_27\">\n      <g>\n       <use style=\"stroke:#000000;stroke-width:0.8;\" x=\"334.466761\" xlink:href=\"#m233b82943b\" y=\"133.309219\"/>\n      </g>\n     </g>\n     <g id=\"text_26\">\n      <!-- 0.50 -->\n      <g transform=\"translate(305.201136 137.108437)scale(0.1 -0.1)\">\n       <use xlink:href=\"#DejaVuSans-48\"/>\n       <use x=\"63.623047\" xlink:href=\"#DejaVuSans-46\"/>\n       <use x=\"95.410156\" xlink:href=\"#DejaVuSans-53\"/>\n       <use x=\"159.033203\" xlink:href=\"#DejaVuSans-48\"/>\n      </g>\n     </g>\n    </g>\n    <g id=\"ytick_10\">\n     <g id=\"line2d_28\">\n      <g>\n       <use style=\"stroke:#000000;stroke-width:0.8;\" x=\"334.466761\" xlink:href=\"#m233b82943b\" y=\"112.924219\"/>\n      </g>\n     </g>\n     <g id=\"text_27\">\n      <!-- 0.75 -->\n      <g transform=\"translate(305.201136 116.723437)scale(0.1 -0.1)\">\n       <use xlink:href=\"#DejaVuSans-48\"/>\n       <use x=\"63.623047\" xlink:href=\"#DejaVuSans-46\"/>\n       <use x=\"95.410156\" xlink:href=\"#DejaVuSans-55\"/>\n       <use x=\"159.033203\" xlink:href=\"#DejaVuSans-53\"/>\n      </g>\n     </g>\n    </g>\n    <g id=\"ytick_11\">\n     <g id=\"line2d_29\">\n      <g>\n       <use style=\"stroke:#000000;stroke-width:0.8;\" x=\"334.466761\" xlink:href=\"#m233b82943b\" y=\"92.539219\"/>\n      </g>\n     </g>\n     <g id=\"text_28\">\n      <!-- 1.00 -->\n      <g transform=\"translate(305.201136 96.338437)scale(0.1 -0.1)\">\n       <use xlink:href=\"#DejaVuSans-49\"/>\n       <use x=\"63.623047\" xlink:href=\"#DejaVuSans-46\"/>\n       <use x=\"95.410156\" xlink:href=\"#DejaVuSans-48\"/>\n       <use x=\"159.033203\" xlink:href=\"#DejaVuSans-48\"/>\n      </g>\n     </g>\n    </g>\n    <g id=\"ytick_12\">\n     <g id=\"line2d_30\">\n      <g>\n       <use style=\"stroke:#000000;stroke-width:0.8;\" x=\"334.466761\" xlink:href=\"#m233b82943b\" y=\"72.154219\"/>\n      </g>\n     </g>\n     <g id=\"text_29\">\n      <!-- 1.25 -->\n      <g transform=\"translate(305.201136 75.953437)scale(0.1 -0.1)\">\n       <use xlink:href=\"#DejaVuSans-49\"/>\n       <use x=\"63.623047\" xlink:href=\"#DejaVuSans-46\"/>\n       <use x=\"95.410156\" xlink:href=\"#DejaVuSans-50\"/>\n       <use x=\"159.033203\" xlink:href=\"#DejaVuSans-53\"/>\n      </g>\n     </g>\n    </g>\n    <g id=\"ytick_13\">\n     <g id=\"line2d_31\">\n      <g>\n       <use style=\"stroke:#000000;stroke-width:0.8;\" x=\"334.466761\" xlink:href=\"#m233b82943b\" y=\"51.769219\"/>\n      </g>\n     </g>\n     <g id=\"text_30\">\n      <!-- 1.50 -->\n      <g transform=\"translate(305.201136 55.568437)scale(0.1 -0.1)\">\n       <use xlink:href=\"#DejaVuSans-49\"/>\n       <use x=\"63.623047\" xlink:href=\"#DejaVuSans-46\"/>\n       <use x=\"95.410156\" xlink:href=\"#DejaVuSans-53\"/>\n       <use x=\"159.033203\" xlink:href=\"#DejaVuSans-48\"/>\n      </g>\n     </g>\n    </g>\n    <g id=\"ytick_14\">\n     <g id=\"line2d_32\">\n      <g>\n       <use style=\"stroke:#000000;stroke-width:0.8;\" x=\"334.466761\" xlink:href=\"#m233b82943b\" y=\"31.384219\"/>\n      </g>\n     </g>\n     <g id=\"text_31\">\n      <!-- 1.75 -->\n      <g transform=\"translate(305.201136 35.183437)scale(0.1 -0.1)\">\n       <use xlink:href=\"#DejaVuSans-49\"/>\n       <use x=\"63.623047\" xlink:href=\"#DejaVuSans-46\"/>\n       <use x=\"95.410156\" xlink:href=\"#DejaVuSans-55\"/>\n       <use x=\"159.033203\" xlink:href=\"#DejaVuSans-53\"/>\n      </g>\n     </g>\n    </g>\n    <g id=\"ytick_15\">\n     <g id=\"line2d_33\">\n      <g>\n       <use style=\"stroke:#000000;stroke-width:0.8;\" x=\"334.466761\" xlink:href=\"#m233b82943b\" y=\"10.999219\"/>\n      </g>\n     </g>\n     <g id=\"text_32\">\n      <!-- 2.00 -->\n      <g transform=\"translate(305.201136 14.798437)scale(0.1 -0.1)\">\n       <use xlink:href=\"#DejaVuSans-50\"/>\n       <use x=\"63.623047\" xlink:href=\"#DejaVuSans-46\"/>\n       <use x=\"95.410156\" xlink:href=\"#DejaVuSans-48\"/>\n       <use x=\"159.033203\" xlink:href=\"#DejaVuSans-48\"/>\n      </g>\n     </g>\n    </g>\n   </g>\n   <g id=\"line2d_34\">\n    <path clip-path=\"url(#pc792a190bd)\" d=\"M 345.995687 52.093346 \nL 352.323068 52.092888 \nL 360.917139 52.09287 \nL 372.167062 52.093228 \nL 380.376984 52.093066 \nL 388.586906 52.092961 \nL 398.030052 52.093058 \nL 408.092596 52.093417 \nL 416.022404 52.093114 \nL 423.952212 52.092952 \nL 433.169044 52.093006 \nL 443.368949 52.093348 \nL 451.336526 52.093085 \nL 451.336526 92.215352 \nL 451.488373 92.177844 \nL 453.006848 91.665441 \nL 456.212325 89.132815 \nL 460.371567 79.664882 \nL 465.44104 61.815293 \nL 467.894655 56.623756 \nL 470.348269 54.031177 \nL 473.446003 52.721801 \nL 476.247421 52.315769 \nL 479.128256 52.169073 \nL 482.270332 52.116441 \nL 485.901414 52.09893 \nL 490.310465 52.094021 \nL 495.917568 52.092988 \nL 503.398622 52.092855 \nL 513.58551 52.092976 \nL 523.112722 52.093099 \nL 532.639934 52.093293 \nL 541.657109 52.093362 \nL 549.953469 52.093177 \nL 558.161004 52.093032 \nL 567.023669 52.093037 \nL 576.574199 52.093202 \n\" style=\"fill:none;stroke:#1f77b4;stroke-linecap:square;stroke-width:1.5;\"/>\n   </g>\n   <g id=\"patch_8\">\n    <path d=\"M 334.466761 174.079219 \nL 334.466761 10.999219 \n\" style=\"fill:none;stroke:#000000;stroke-linecap:square;stroke-linejoin:miter;stroke-width:0.8;\"/>\n   </g>\n   <g id=\"patch_9\">\n    <path d=\"M 588.103125 174.079219 \nL 588.103125 10.999219 \n\" style=\"fill:none;stroke:#000000;stroke-linecap:square;stroke-linejoin:miter;stroke-width:0.8;\"/>\n   </g>\n   <g id=\"patch_10\">\n    <path d=\"M 334.466761 174.079219 \nL 588.103125 174.079219 \n\" style=\"fill:none;stroke:#000000;stroke-linecap:square;stroke-linejoin:miter;stroke-width:0.8;\"/>\n   </g>\n   <g id=\"patch_11\">\n    <path d=\"M 334.466761 10.999219 \nL 588.103125 10.999219 \n\" style=\"fill:none;stroke:#000000;stroke-linecap:square;stroke-linejoin:miter;stroke-width:0.8;\"/>\n   </g>\n  </g>\n </g>\n <defs>\n  <clipPath id=\"pe5a30d4a57\">\n   <rect height=\"163.08\" width=\"253.636364\" x=\"30.103125\" y=\"10.999219\"/>\n  </clipPath>\n  <clipPath id=\"pc792a190bd\">\n   <rect height=\"163.08\" width=\"253.636364\" x=\"334.466761\" y=\"10.999219\"/>\n  </clipPath>\n </defs>\n</svg>\n"
          },
          "metadata": {
            "tags": [],
            "needs_background": "light"
          }
        }
      ]
    },
    {
      "cell_type": "code",
      "metadata": {
        "colab": {
          "base_uri": "https://localhost:8080/"
        },
        "id": "84uY3dgRTQxe",
        "outputId": "499ccfac-bcee-4835-ff74-2e3d52900a32"
      },
      "source": [
        ""
      ],
      "execution_count": null,
      "outputs": [
        {
          "output_type": "execute_result",
          "data": {
            "text/plain": [
              "[1.3333333333333333,\n",
              " 1.290526179356472,\n",
              " 1.2649524979732167,\n",
              " 1.2563159903691419,\n",
              " 1.2537780964357583,\n",
              " 1.2532381834343203,\n",
              " 1.2531675374641758,\n",
              " 1.2532252546919938,\n",
              " 1.2532914790776086,\n",
              " 1.2534011611603488,\n",
              " 1.2534326667775781,\n",
              " 1.2533254819496193,\n",
              " 1.2532507388385343,\n",
              " 1.2532569429386453,\n",
              " 1.2533505388579653,\n",
              " 1.2534579875785876,\n",
              " 1.2533875068151927,\n",
              " 1.2532710995932708,\n",
              " 1.253238131125317,\n",
              " 1.2532941325793312,\n",
              " 1.253434934729706,\n",
              " 1.2533031363289058,\n",
              " 1.2532273125508309,\n",
              " 1.2532510517866116,\n",
              " 1.2533963558538048,\n",
              " 1.2532970083311867,\n",
              " 1.2532339832841037,\n",
              " 1.2532628035507092,\n",
              " 1.2533977011040673,\n",
              " 1.2532995449198097,\n",
              " 1.2532366715579109,\n",
              " 1.2532634347677303,\n",
              " 1.253391623932106,\n",
              " 1.2533001589162158,\n",
              " 1.2532400290619274,\n",
              " 1.2532663328540021,\n",
              " 1.2533876781078406,\n",
              " 1.2533011115759918,\n",
              " 1.253243036000038,\n",
              " 1.2532685483944856,\n",
              " 1.253383765251834,\n",
              " 1.2533019262992888,\n",
              " 1.2532459370904898,\n",
              " 1.2532707416658555,\n",
              " 1.2533802542320673,\n",
              " 1.2534567197180921,\n",
              " 1.253355963684019,\n",
              " 1.2532566185150862,\n",
              " 1.2532432692693711,\n",
              " 1.2533212268731715,\n",
              " 1.2534588375635471,\n",
              " 1.2534283628920404,\n",
              " 1.2532896969424763,\n",
              " 1.2532331342540715,\n",
              " 1.2532683851856325,\n",
              " 1.253409127741342,\n",
              " 1.253299896310872,\n",
              " 1.2532326020048292,\n",
              " 1.2532589757299475,\n",
              " 1.2533951584780179,\n",
              " 1.253298902102778,\n",
              " 1.2532368950540769,\n",
              " 1.2532642066127004,\n",
              " 1.253392267891906,\n",
              " 1.253275493816309,\n",
              " 1.246724506183691,\n",
              " 1.2513789825942523,\n",
              " 1.252810440251895,\n",
              " 1.2530627934641891,\n",
              " 1.253076093531912,\n",
              " 1.2529088511631827,\n",
              " 1.2529756857524392,\n",
              " 1.2530218187413469,\n",
              " 1.2529709685328831,\n",
              " 1.2528052343065994,\n",
              " 1.2529494445285483,\n",
              " 1.25302853343826,\n",
              " 1.2530023694138726,\n",
              " 1.2528398357676964,\n",
              " 1.2529541782236866,\n",
              " 1.253022608891947,\n",
              " 1.2529924079549897,\n",
              " 1.2528400094279242,\n",
              " 1.2529518642963884,\n",
              " 1.253019757564609,\n",
              " 1.252991290010397,\n",
              " 1.2528464850997227,\n",
              " 1.2529511677188285,\n",
              " 1.2530164505902293,\n",
              " 1.252988413224201,\n",
              " 1.2528509324284005,\n",
              " 1.2529502001577377,\n",
              " 1.2530134642698671,\n",
              " 1.2529861360983767,\n",
              " 1.2528552418978585,\n",
              " 1.2529493627398463,\n",
              " 1.2530106000407581,\n",
              " 1.252983912239007,\n",
              " 1.2528591020592343,\n",
              " 1.2529485606290374,\n",
              " 1.2530078820048443,\n",
              " 1.2529818396955303,\n",
              " 1.2528626484725205,\n",
              " 1.2529478074216787,\n",
              " 1.2530052879053222,\n",
              " 1.2529798789560427,\n",
              " 1.2528659086147345,\n",
              " 1.2529470944531413,\n",
              " 1.253002808324505,\n",
              " 1.2529780234864922,\n",
              " 1.2528689222714608,\n",
              " 1.2527929481509648,\n",
              " 1.2528934522525808,\n",
              " 1.252992468868693,\n",
              " 1.253005637843641,\n",
              " 1.2529274935574872,\n",
              " 1.252789895406801,\n",
              " 1.2528209589396844,\n",
              " 1.2529597795560479,\n",
              " 1.2530161062461576,\n",
              " 1.2529804617753686,\n",
              " 1.2528388264035935,\n",
              " 1.2529493783250159,\n",
              " 1.253017165552961,\n",
              " 1.2529906224601661,\n",
              " 1.2528526444691912,\n",
              " 1.2529505604641356,\n",
              " 1.2530937190214533,\n",
              " 1.2469062809785465,\n",
              " 1.2514406589118816,\n",
              " 1.2528227402928374,\n",
              " 1.2530643834854671,\n",
              " 1.2530753104959833,\n",
              " 1.2528996340873602,\n",
              " 1.2529760099676137,\n",
              " 1.253026457190424,\n",
              " 1.2529763630452484,\n",
              " 1.252798542565236,\n",
              " 1.252950768235586,\n",
              " 1.2530319200105349,\n",
              " 1.253004967820418,\n",
              " 1.2528336720898325,\n",
              " 1.2529551772581515,\n",
              " 1.253025935293656,\n",
              " 1.2529951655471825,\n",
              " 1.2528346384131182,\n",
              " 1.2529528271591608,\n",
              " 1.2530228423502234,\n",
              " 1.2529937587414421,\n",
              " 1.2528417019149847,\n",
              " 1.2529520547170498,\n",
              " 1.2530193629043023,\n",
              " 1.2529907197007601,\n",
              " 1.2528466419455113,\n",
              " 1.2529510291949597,\n",
              " 1.2530162167083054,\n",
              " 1.2529882857128483,\n",
              " 1.252851362386981,\n",
              " 1.252950139202579,\n",
              " 1.253013211641286,\n",
              " 1.2529859276887982,\n",
              " 1.2528555706895248,\n",
              " 1.2529492906992008,\n",
              " 1.2530103669110524,\n",
              " 1.2529837360415534,\n",
              " 1.2528594152592487,\n",
              " 1.2529484959769621,\n",
              " 1.2530076583551732,\n",
              " 1.2529816693450873,\n",
              " 1.2528629332557268,\n",
              " 1.252947745672373,\n",
              " 1.2530050746436263,\n",
              " 1.2529797188024323,\n",
              " 1.2528661718825662,\n",
              " 1.2529470361227482,\n",
              " 1.2530026041473001,\n",
              " 1.2529778714309419,\n",
              " 1.2528691660200568,\n",
              " 1.2527935736990021,\n",
              " 1.2528935963165706,\n",
              " 1.2529922973045182,\n",
              " 1.253005433364924,\n",
              " 1.2529274898732963,\n",
              " 1.2527905085584796,\n",
              " 1.2528214261321429,\n",
              " 1.2529597050121095,\n",
              " 1.2530159001100019,\n",
              " 1.2529803052653268,\n",
              " 1.2528391588251928,\n",
              " 1.2529493231530748,\n",
              " 1.253092678408389]"
            ]
          },
          "metadata": {
            "tags": []
          },
          "execution_count": 93
        }
      ]
    },
    {
      "cell_type": "code",
      "metadata": {
        "id": "SR6peRCxaQ0t"
      },
      "source": [
        ""
      ],
      "execution_count": null,
      "outputs": []
    }
  ]
}